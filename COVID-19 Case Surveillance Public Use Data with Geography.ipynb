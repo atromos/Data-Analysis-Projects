{
 "cells": [
  {
   "cell_type": "markdown",
   "id": "e509f366",
   "metadata": {},
   "source": [
    "## Import Libraries"
   ]
  },
  {
   "cell_type": "code",
   "execution_count": 1,
   "id": "e5108ac4",
   "metadata": {},
   "outputs": [],
   "source": [
    "import requests\n",
    "import pandas as pd\n",
    "import psycopg2\n",
    "from sqlalchemy import create_engine\n",
    "\n",
    "# Documentation about columns:  https://dev.socrata.com/foundry/data.cdc.gov/n8mc-b4w4"
   ]
  },
  {
   "cell_type": "markdown",
   "id": "8351c0c5",
   "metadata": {},
   "source": [
    "## Endpoint Generation and Data Retrieval"
   ]
  },
  {
   "cell_type": "code",
   "execution_count": 2,
   "id": "8199728f",
   "metadata": {},
   "outputs": [],
   "source": [
    "# Establishing base endpoint url and dummy variables that can be changed\n",
    "\n",
    "endpoint = 'https://data.cdc.gov/resource/n8mc-b4w4.json'\n",
    "case_month = '2022-07'\n",
    "limit = '50000'\n",
    "res_state = 'CO'   #  Pass in states_2letter_list here <-----------\n",
    "\n",
    "# Below generates a list of two-letter state codes from a website\n",
    "\n",
    "url = 'https://www.ssa.gov/international/coc-docs/states.html'\n",
    "states_table = pd.read_html(url)\n",
    "states_df = pd.DataFrame(data = states_table[0])\n",
    "states_2letter_list = states_df[1].to_list()\n",
    "df = pd.DataFrame()\n",
    "# This is the function that will retrieve the data from the cdc.gov Api\n",
    "\n",
    "def get_data(case_month, limit, res_state):\n",
    "    criteria = f'case_month={case_month}&$limit={limit}&res_state={res_state}'\n",
    "    data = requests.get(endpoint+'?'+criteria)\n",
    "    data_list = data.json()\n",
    "    df_data = pd.DataFrame(data_list)\n",
    "    return df_data"
   ]
  },
  {
   "cell_type": "code",
   "execution_count": null,
   "id": "3ec19481",
   "metadata": {},
   "outputs": [],
   "source": [
    "all_data = pd.DataFrame()\n",
    "for x in range (0,len(states_2letter_list)-1):\n",
    "    df = get_data(case_month,limit, states_2letter_list[x])\n",
    "    all_data = pd.concat([all_data,df],ignore_index=True)\n",
    "all_data.info"
   ]
  },
  {
   "cell_type": "markdown",
   "id": "c57db700",
   "metadata": {},
   "source": [
    "## Read from the Dataframe/CSV for Columns & Datatypes"
   ]
  },
  {
   "cell_type": "code",
   "execution_count": 10,
   "id": "46a04a3b",
   "metadata": {},
   "outputs": [
    {
     "data": {
      "text/plain": [
       "Index(['case_month', 'res_state', 'state_fips_code', 'res_county',\n",
       "       'county_fips_code', 'age_group', 'sex', 'race', 'ethnicity', 'process',\n",
       "       'exposure_yn', 'current_status', 'symptom_status', 'hosp_yn', 'icu_yn',\n",
       "       'death_yn', 'underlying_conditions_yn', 'case_onset_interval',\n",
       "       'case_positive_specimen'],\n",
       "      dtype='object')"
      ]
     },
     "execution_count": 10,
     "metadata": {},
     "output_type": "execute_result"
    }
   ],
   "source": [
    "col_list = all_data.columns\n",
    "col_list"
   ]
  },
  {
   "cell_type": "code",
   "execution_count": 11,
   "id": "9ef39849",
   "metadata": {},
   "outputs": [
    {
     "data": {
      "text/plain": [
       "pandas.core.indexes.base.Index"
      ]
     },
     "execution_count": 11,
     "metadata": {},
     "output_type": "execute_result"
    }
   ],
   "source": [
    "type(col_list)"
   ]
  },
  {
   "cell_type": "code",
   "execution_count": 8,
   "id": "41c1893b",
   "metadata": {},
   "outputs": [
    {
     "data": {
      "text/plain": [
       "case_month                  object\n",
       "res_state                   object\n",
       "state_fips_code             object\n",
       "res_county                  object\n",
       "county_fips_code            object\n",
       "age_group                   object\n",
       "sex                         object\n",
       "race                        object\n",
       "ethnicity                   object\n",
       "process                     object\n",
       "exposure_yn                 object\n",
       "current_status              object\n",
       "symptom_status              object\n",
       "hosp_yn                     object\n",
       "icu_yn                      object\n",
       "death_yn                    object\n",
       "underlying_conditions_yn    object\n",
       "case_onset_interval         object\n",
       "case_positive_specimen      object\n",
       "dtype: object"
      ]
     },
     "execution_count": 8,
     "metadata": {},
     "output_type": "execute_result"
    }
   ],
   "source": [
    "dtypes_list = all_data.dtypes\n",
    "dtypes_list"
   ]
  },
  {
   "cell_type": "code",
   "execution_count": 12,
   "id": "22de0985",
   "metadata": {},
   "outputs": [],
   "source": [
    "replacements = {\n",
    "    'object': 'varchar',\n",
    "    'float64': 'float',\n",
    "    'int64': 'int',\n",
    "    'datetime64': 'timestamp',\n",
    "    'timedelta64[ns]': 'varchar'\n",
    "}"
   ]
  },
  {
   "cell_type": "code",
   "execution_count": 16,
   "id": "352b347a",
   "metadata": {},
   "outputs": [
    {
     "data": {
      "text/plain": [
       "'case_month varchar, res_state varchar, state_fips_code varchar, res_county varchar, county_fips_code varchar, age_group varchar, sex varchar, race varchar, ethnicity varchar, process varchar, exposure_yn varchar, current_status varchar, symptom_status varchar, hosp_yn varchar, icu_yn varchar, death_yn varchar, underlying_conditions_yn varchar, case_onset_interval varchar, case_positive_specimen varchar'"
      ]
     },
     "execution_count": 16,
     "metadata": {},
     "output_type": "execute_result"
    }
   ],
   "source": [
    "columns_string = \", \".join(\"{} {}\".format(n,d) for (n,d) in zip(col_list, dtypes_list.replace(replacements)))\n",
    "columns_string"
   ]
  },
  {
   "cell_type": "markdown",
   "id": "5cc82729",
   "metadata": {},
   "source": [
    "## Connect to PostgreSQL Database"
   ]
  },
  {
   "cell_type": "code",
   "execution_count": 17,
   "id": "cc3f341a",
   "metadata": {},
   "outputs": [],
   "source": [
    "all_data.to_csv('cov_2022_07_data_2.csv', header=all_data.columns, index=False, encoding='utf-8')"
   ]
  },
  {
   "cell_type": "code",
   "execution_count": 18,
   "id": "5c982bbb",
   "metadata": {},
   "outputs": [
    {
     "name": "stdout",
     "output_type": "stream",
     "text": [
      "file opened in memory\n"
     ]
    }
   ],
   "source": [
    "my_file = open('cov_2022_07_data_2.csv')\n",
    "print('file opened in memory')"
   ]
  },
  {
   "cell_type": "code",
   "execution_count": 22,
   "id": "35872660",
   "metadata": {},
   "outputs": [],
   "source": [
    "try:\n",
    "    # Open the connection\n",
    "    conn = psycopg2.connect(host=\"localhost\",\n",
    "    database=\"postgres\",user=\"postgres\",password=\"password\",port =\"5432\")\n",
    "    \n",
    "    # Open the cursor\n",
    "    cur = conn.cursor()\n",
    "    \n",
    "    create_script = '''\n",
    "    CREATE TABLE IF NOT EXISTS covid_data (%s)\n",
    "    ''' % (columns_string)\n",
    "    \n",
    "    upload_csv_script = '''\n",
    "    COPY covid_data\n",
    "    FROM STDIN WITH\n",
    "    CSV\n",
    "    HEADER\n",
    "    DELIMITER AS ','\n",
    "    '''\n",
    "    \n",
    "    cur.execute(create_script)\n",
    "    cur.execute('TRUNCATE TABLE covid_data')\n",
    "    cur.copy_expert(sql=upload_csv_script, file=my_file)\n",
    "    \n",
    "    # Commit the script to finalize the changes\n",
    "    conn.commit()\n",
    "    \n",
    "    # Close the connection & cursor\n",
    "    cur.close()\n",
    "    conn.close()\n",
    "except Exception as error:\n",
    "    print(error)"
   ]
  },
  {
   "cell_type": "markdown",
   "id": "6fda36c2",
   "metadata": {},
   "source": [
    "## Now we have our data in our PostgreSQL Database!"
   ]
  }
 ],
 "metadata": {
  "kernelspec": {
   "display_name": "Python 3 (ipykernel)",
   "language": "python",
   "name": "python3"
  },
  "language_info": {
   "codemirror_mode": {
    "name": "ipython",
    "version": 3
   },
   "file_extension": ".py",
   "mimetype": "text/x-python",
   "name": "python",
   "nbconvert_exporter": "python",
   "pygments_lexer": "ipython3",
   "version": "3.10.0"
  }
 },
 "nbformat": 4,
 "nbformat_minor": 5
}
